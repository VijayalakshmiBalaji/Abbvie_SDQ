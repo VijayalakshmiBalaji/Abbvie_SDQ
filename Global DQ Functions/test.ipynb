{
 "cells": [
  {
   "cell_type": "code",
   "execution_count": 66,
   "metadata": {
    "tags": []
   },
   "outputs": [
    {
     "name": "stdout",
     "output_type": "stream",
     "text": [
      "['28/10/2021', '26/10/2021']\n",
      "['26/10/2021', '28/10/2021']\n"
     ]
    },
    {
     "data": {
      "text/plain": [
       "False"
      ]
     },
     "execution_count": 66,
     "metadata": {},
     "output_type": "execute_result"
    }
   ],
   "source": [
    "#Date Sorting Check and Time Sorting\n",
    "\n",
    "import pandas as pd\n",
    "def seq_check(data , column):\n",
    "    \n",
    "    x=data[column]\n",
    "    print(x)\n",
    "    y=x[:]\n",
    "    y.sort()\n",
    "    print(y)\n",
    "    flag = 0\n",
    "    for i in range(len(x)) :\n",
    "        \n",
    "        if x[i] != y[i]:\n",
    "            flag += 1\n",
    "    if flag==0:\n",
    "        return True\n",
    "    else : \n",
    "        return False\n",
    "\n",
    "data = {\"column\" : [\"28/10/2021\" , \"26/10/2021\"] }\n",
    "\n",
    "seq_check(data,\"column\")\n"
   ]
  },
  {
   "cell_type": "code",
   "execution_count": 74,
   "metadata": {},
   "outputs": [
    {
     "data": {
      "text/plain": [
       "False"
      ]
     },
     "execution_count": 74,
     "metadata": {},
     "output_type": "execute_result"
    }
   ],
   "source": [
    "#Record Count \n",
    "\n",
    "import pandas as pd\n",
    "def rec_count(data , number):\n",
    "\n",
    "    x = pd.DataFrame.from_dict(data)\n",
    "\n",
    "    count=x.shape[0]\n",
    "    if count>number:\n",
    "        return False\n",
    "    else:\n",
    "        return True\n",
    "\n",
    "\n",
    "data = {\"column\" : [\"28/10/2021\" , \"26/10/2021\"] }\n",
    "\n",
    "rec_count(data,1)\n"
   ]
  },
  {
   "cell_type": "code",
   "execution_count": null,
   "metadata": {},
   "outputs": [],
   "source": []
  }
 ],
 "metadata": {
  "colab": {
   "authorship_tag": "ABX9TyNrA8YwrTquWA4xlQ9HcGJs",
   "name": "test.ipynb",
   "provenance": []
  },
  "kernelspec": {
   "display_name": "Python 3",
   "language": "python",
   "name": "python3"
  },
  "language_info": {
   "codemirror_mode": {
    "name": "ipython",
    "version": 3
   },
   "file_extension": ".py",
   "mimetype": "text/x-python",
   "name": "python",
   "nbconvert_exporter": "python",
   "pygments_lexer": "ipython3",
   "version": "3.8.8"
  }
 },
 "nbformat": 4,
 "nbformat_minor": 4
}
